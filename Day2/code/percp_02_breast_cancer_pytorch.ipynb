{
 "cells": [
  {
   "cell_type": "markdown",
   "id": "794466ef-44a6-4eed-9347-10b4e15f81f7",
   "metadata": {},
   "source": [
    "---------------------\n",
    "#### Classification : Breast cancer dataset\n",
    "-----------------------"
   ]
  },
  {
   "cell_type": "code",
   "execution_count": 15,
   "id": "3ce4d6b3-3b99-4585-9a95-f2cf36a4a956",
   "metadata": {},
   "outputs": [],
   "source": [
    "#pip install torchsummary"
   ]
  },
  {
   "cell_type": "code",
   "execution_count": 17,
   "id": "2cfbd809-70ac-43b0-86de-fd6898c222e9",
   "metadata": {},
   "outputs": [],
   "source": [
    "#pip install torchviz"
   ]
  },
  {
   "cell_type": "code",
   "execution_count": 34,
   "id": "f8117276-ece3-4ac6-84aa-9d7a4ca6b59f",
   "metadata": {},
   "outputs": [],
   "source": [
    "import torch\n",
    "import torch.nn as nn\n",
    "import torch.optim as optim\n",
    "from torch.utils.data import DataLoader, TensorDataset\n",
    "\n",
    "from sklearn.datasets import load_breast_cancer\n",
    "from sklearn.model_selection import train_test_split\n",
    "from sklearn.preprocessing import StandardScaler\n",
    "from sklearn.metrics import accuracy_score, confusion_matrix, classification_report"
   ]
  },
  {
   "cell_type": "code",
   "execution_count": 18,
   "id": "231b838c-e81a-45d0-b063-254e412694fd",
   "metadata": {},
   "outputs": [],
   "source": [
    "from torchsummary import summary\n",
    "from torchviz import make_dot"
   ]
  },
  {
   "cell_type": "code",
   "execution_count": 37,
   "id": "3740beca-4cb8-4842-af43-684b092f5954",
   "metadata": {},
   "outputs": [],
   "source": [
    "# Load and preprocess the dataset\n",
    "data = load_breast_cancer()\n",
    "X = data.data\n",
    "y = data.target"
   ]
  },
  {
   "cell_type": "code",
   "execution_count": 38,
   "id": "152d2777-1add-4ed2-bee8-3206aee5bf1e",
   "metadata": {},
   "outputs": [],
   "source": [
    "# Standardize the data\n",
    "scaler = StandardScaler()\n",
    "X_scaled = scaler.fit_transform(X)"
   ]
  },
  {
   "cell_type": "code",
   "execution_count": 39,
   "id": "396e52dc-a0e9-4431-927e-6ccd6e34cb1c",
   "metadata": {},
   "outputs": [],
   "source": [
    "# Split the data into train and validation sets\n",
    "X_train, X_val, y_train, y_val = train_test_split(X_scaled, y, test_size=0.2, random_state=42)"
   ]
  },
  {
   "cell_type": "code",
   "execution_count": 40,
   "id": "e470860a-9cdf-4dda-b873-8e0977dce4c5",
   "metadata": {},
   "outputs": [],
   "source": [
    "# Convert the data to PyTorch tensors\n",
    "X_train_tensor = torch.tensor(X_train, dtype=torch.float32)\n",
    "y_train_tensor = torch.tensor(y_train, dtype=torch.float32).view(-1, 1)\n",
    "X_val_tensor = torch.tensor(X_val, dtype=torch.float32)\n",
    "y_val_tensor = torch.tensor(y_val, dtype=torch.float32).view(-1, 1)"
   ]
  },
  {
   "cell_type": "code",
   "execution_count": 42,
   "id": "b7a77676-bcd3-48a1-846e-5f06bc134685",
   "metadata": {},
   "outputs": [],
   "source": [
    "# Create DataLoader for training and validation sets\n",
    "train_dataset = TensorDataset(X_train_tensor, y_train_tensor)\n",
    "val_dataset   = TensorDataset(X_val_tensor, y_val_tensor)\n",
    "\n",
    "train_loader = DataLoader(train_dataset, batch_size=32, shuffle=True)\n",
    "val_loader   = DataLoader(val_dataset, batch_size=32, shuffle=False)"
   ]
  },
  {
   "cell_type": "code",
   "execution_count": 43,
   "id": "2ae36560-5986-4061-affe-dec86d2c410c",
   "metadata": {},
   "outputs": [],
   "source": [
    "# Define the Perceptron model\n",
    "class Perceptron(nn.Module):\n",
    "    def __init__(self, input_dim):\n",
    "        super(Perceptron, self).__init__()\n",
    "        self.linear = nn.Linear(input_dim, 1)  # Single-layer perceptron\n",
    "\n",
    "    def forward(self, x):\n",
    "        x = self.linear(x)\n",
    "        return torch.sigmoid(x)  # Sigmoid activation for binary classification"
   ]
  },
  {
   "cell_type": "code",
   "execution_count": 49,
   "id": "80a366ab-bd27-46e0-a3f6-c8cf9aa49b18",
   "metadata": {},
   "outputs": [],
   "source": [
    "# Model initialization\n",
    "# The input_dim determines the number of input features for the perceptron model.\n",
    "# The perceptron is initialized with an input layer (nn.Linear) that matches the number of features \n",
    "# in the dataset.\n",
    "# This ensures the perceptron can process the input data correctly for training and inference.\n",
    "\n",
    "model = Perceptron(X_train.shape[1])  # Input dimension is the number of features\n",
    "loss_function = nn.BCELoss()  # Binary Cross-Entropy Loss for binary classification\n",
    "optimizer     = optim.Adam(model.parameters(), lr=0.001)\n"
   ]
  },
  {
   "cell_type": "code",
   "execution_count": 50,
   "id": "24ed2895-7b89-43f9-9909-dc63ff1d1b73",
   "metadata": {},
   "outputs": [
    {
     "name": "stdout",
     "output_type": "stream",
     "text": [
      "----------------------------------------------------------------\n",
      "        Layer (type)               Output Shape         Param #\n",
      "================================================================\n",
      "            Linear-1                 [-1, 1, 1]              31\n",
      "================================================================\n",
      "Total params: 31\n",
      "Trainable params: 31\n",
      "Non-trainable params: 0\n",
      "----------------------------------------------------------------\n",
      "Input size (MB): 0.00\n",
      "Forward/backward pass size (MB): 0.00\n",
      "Params size (MB): 0.00\n",
      "Estimated Total Size (MB): 0.00\n",
      "----------------------------------------------------------------\n"
     ]
    }
   ],
   "source": [
    "summary(model, input_size=(1, input_dim))  # Input size with batch dimension"
   ]
  },
  {
   "cell_type": "code",
   "execution_count": 46,
   "id": "91d881e8-562b-46e5-9756-efe145b6934a",
   "metadata": {},
   "outputs": [
    {
     "data": {
      "text/plain": [
       "'perceptron_model.png'"
      ]
     },
     "execution_count": 46,
     "metadata": {},
     "output_type": "execute_result"
    }
   ],
   "source": [
    "# Generate a computational graph\n",
    "sample_input = torch.randn(1, X_train.shape[1])  # Random sample input\n",
    "model  = Perceptron(X_train.shape[1])\n",
    "output = model(sample_input)  # Forward pass\n",
    "\n",
    "graph = make_dot(output, params=dict(model.named_parameters()))\n",
    "graph.render(\"perceptron_model\", format=\"png\")  # Saves the graph as an image"
   ]
  },
  {
   "cell_type": "code",
   "execution_count": 47,
   "id": "68ed2832-7dc9-4eff-a0db-ad79f2fae8d7",
   "metadata": {},
   "outputs": [],
   "source": [
    "import matplotlib.pyplot as plt"
   ]
  },
  {
   "cell_type": "code",
   "execution_count": 48,
   "id": "5b9b64b0-e064-4c51-ab15-4ffd10af6b85",
   "metadata": {},
   "outputs": [
    {
     "data": {
      "image/png": "[encoded data removed]",
      "text/plain": [
       "<Figure size 800x400 with 1 Axes>"
      ]
     },
     "metadata": {},
     "output_type": "display_data"
    }
   ],
   "source": [
    "# Extract weights and biases from the linear layer\n",
    "linear_layer = model.linear\n",
    "weights      = linear_layer.weight.detach().numpy()\n",
    "bias         = linear_layer.bias.detach().numpy()\n",
    "\n",
    "# Plot weights and biases\n",
    "plt.figure(figsize=(8, 4))\n",
    "plt.bar(range(len(weights[0])), weights[0], color='blue', alpha=0.7, label='Weights')\n",
    "plt.axhline(y=bias[0], color='red', linestyle='--', label='Bias')\n",
    "plt.xlabel('Feature Index')\n",
    "plt.ylabel('Weight Value')\n",
    "plt.title('Learned Weights and Bias')\n",
    "plt.legend()\n",
    "plt.show()\n"
   ]
  },
  {
   "cell_type": "code",
   "execution_count": 51,
   "id": "4428cfcf-645e-486a-a08d-431e3ef2b3ba",
   "metadata": {},
   "outputs": [],
   "source": [
    "# Training with early stopping and loss tracking\n",
    "num_epochs = 100\n",
    "patience   = 5\n",
    "best_val_loss = float('inf')\n",
    "epochs_without_improvement = 0\n",
    "train_losses = []\n",
    "val_losses = []\n",
    "early_stopping_triggered = False"
   ]
  },
  {
   "cell_type": "code",
   "execution_count": 52,
   "id": "cae0a231-f889-4166-a41a-eedb25bde8c7",
   "metadata": {},
   "outputs": [
    {
     "name": "stdout",
     "output_type": "stream",
     "text": [
      "Epoch [1/100], Train Loss: 0.8957, Validation Loss: 0.8433\n",
      "Epoch [2/100], Train Loss: 0.7923, Validation Loss: 0.7340\n",
      "Epoch [3/100], Train Loss: 0.6887, Validation Loss: 0.6449\n",
      "Epoch [4/100], Train Loss: 0.6172, Validation Loss: 0.5719\n",
      "Epoch [5/100], Train Loss: 0.5483, Validation Loss: 0.5138\n",
      "Epoch [6/100], Train Loss: 0.4999, Validation Loss: 0.4667\n",
      "Epoch [7/100], Train Loss: 0.4679, Validation Loss: 0.4287\n",
      "Epoch [8/100], Train Loss: 0.4282, Validation Loss: 0.3971\n",
      "Epoch [9/100], Train Loss: 0.3989, Validation Loss: 0.3704\n",
      "Epoch [10/100], Train Loss: 0.3786, Validation Loss: 0.3468\n",
      "Epoch [11/100], Train Loss: 0.3534, Validation Loss: 0.3269\n",
      "Epoch [12/100], Train Loss: 0.3321, Validation Loss: 0.3098\n",
      "Epoch [13/100], Train Loss: 0.3194, Validation Loss: 0.2941\n",
      "Epoch [14/100], Train Loss: 0.3008, Validation Loss: 0.2803\n",
      "Epoch [15/100], Train Loss: 0.2868, Validation Loss: 0.2677\n",
      "Epoch [16/100], Train Loss: 0.2834, Validation Loss: 0.2568\n",
      "Epoch [17/100], Train Loss: 0.2669, Validation Loss: 0.2466\n",
      "Epoch [18/100], Train Loss: 0.2646, Validation Loss: 0.2374\n",
      "Epoch [19/100], Train Loss: 0.2471, Validation Loss: 0.2288\n",
      "Epoch [20/100], Train Loss: 0.2450, Validation Loss: 0.2210\n",
      "Epoch [21/100], Train Loss: 0.2362, Validation Loss: 0.2138\n",
      "Epoch [22/100], Train Loss: 0.2291, Validation Loss: 0.2072\n",
      "Epoch [23/100], Train Loss: 0.2201, Validation Loss: 0.2010\n",
      "Epoch [24/100], Train Loss: 0.2119, Validation Loss: 0.1951\n",
      "Epoch [25/100], Train Loss: 0.2078, Validation Loss: 0.1897\n",
      "Epoch [26/100], Train Loss: 0.2073, Validation Loss: 0.1847\n",
      "Epoch [27/100], Train Loss: 0.1995, Validation Loss: 0.1799\n",
      "Epoch [28/100], Train Loss: 0.1951, Validation Loss: 0.1755\n",
      "Epoch [29/100], Train Loss: 0.1900, Validation Loss: 0.1713\n",
      "Epoch [30/100], Train Loss: 0.1856, Validation Loss: 0.1673\n",
      "Epoch [31/100], Train Loss: 0.1847, Validation Loss: 0.1635\n",
      "Epoch [32/100], Train Loss: 0.1806, Validation Loss: 0.1599\n",
      "Epoch [33/100], Train Loss: 0.1791, Validation Loss: 0.1566\n",
      "Epoch [34/100], Train Loss: 0.1693, Validation Loss: 0.1533\n",
      "Epoch [35/100], Train Loss: 0.1723, Validation Loss: 0.1503\n",
      "Epoch [36/100], Train Loss: 0.1723, Validation Loss: 0.1474\n",
      "Epoch [37/100], Train Loss: 0.1647, Validation Loss: 0.1446\n",
      "Epoch [38/100], Train Loss: 0.1623, Validation Loss: 0.1420\n",
      "Epoch [39/100], Train Loss: 0.1638, Validation Loss: 0.1394\n",
      "Epoch [40/100], Train Loss: 0.1572, Validation Loss: 0.1371\n",
      "Epoch [41/100], Train Loss: 0.1570, Validation Loss: 0.1348\n",
      "Epoch [42/100], Train Loss: 0.1525, Validation Loss: 0.1326\n",
      "Epoch [43/100], Train Loss: 0.1499, Validation Loss: 0.1307\n",
      "Epoch [44/100], Train Loss: 0.1491, Validation Loss: 0.1286\n",
      "Epoch [45/100], Train Loss: 0.1444, Validation Loss: 0.1267\n",
      "Epoch [46/100], Train Loss: 0.1430, Validation Loss: 0.1248\n",
      "Epoch [47/100], Train Loss: 0.1547, Validation Loss: 0.1229\n",
      "Epoch [48/100], Train Loss: 0.1396, Validation Loss: 0.1214\n",
      "Epoch [49/100], Train Loss: 0.1489, Validation Loss: 0.1198\n",
      "Epoch [50/100], Train Loss: 0.1381, Validation Loss: 0.1181\n",
      "Epoch [51/100], Train Loss: 0.1391, Validation Loss: 0.1166\n",
      "Epoch [52/100], Train Loss: 0.1415, Validation Loss: 0.1151\n",
      "Epoch [53/100], Train Loss: 0.1289, Validation Loss: 0.1137\n",
      "Epoch [54/100], Train Loss: 0.1365, Validation Loss: 0.1125\n",
      "Epoch [55/100], Train Loss: 0.1314, Validation Loss: 0.1110\n",
      "Epoch [56/100], Train Loss: 0.1352, Validation Loss: 0.1099\n",
      "Epoch [57/100], Train Loss: 0.1296, Validation Loss: 0.1087\n",
      "Epoch [58/100], Train Loss: 0.1236, Validation Loss: 0.1075\n",
      "Epoch [59/100], Train Loss: 0.1346, Validation Loss: 0.1063\n",
      "Epoch [60/100], Train Loss: 0.1282, Validation Loss: 0.1052\n",
      "Epoch [61/100], Train Loss: 0.1333, Validation Loss: 0.1041\n",
      "Epoch [62/100], Train Loss: 0.1267, Validation Loss: 0.1033\n",
      "Epoch [63/100], Train Loss: 0.1195, Validation Loss: 0.1022\n",
      "Epoch [64/100], Train Loss: 0.1180, Validation Loss: 0.1012\n",
      "Epoch [65/100], Train Loss: 0.1208, Validation Loss: 0.1001\n",
      "Epoch [66/100], Train Loss: 0.1295, Validation Loss: 0.0993\n",
      "Epoch [67/100], Train Loss: 0.1146, Validation Loss: 0.0984\n",
      "Epoch [68/100], Train Loss: 0.1162, Validation Loss: 0.0975\n",
      "Epoch [69/100], Train Loss: 0.1138, Validation Loss: 0.0967\n",
      "Epoch [70/100], Train Loss: 0.1125, Validation Loss: 0.0958\n",
      "Epoch [71/100], Train Loss: 0.1367, Validation Loss: 0.0949\n",
      "Epoch [72/100], Train Loss: 0.1161, Validation Loss: 0.0943\n",
      "Epoch [73/100], Train Loss: 0.1100, Validation Loss: 0.0936\n",
      "Epoch [74/100], Train Loss: 0.1370, Validation Loss: 0.0929\n",
      "Epoch [75/100], Train Loss: 0.1207, Validation Loss: 0.0925\n",
      "Epoch [76/100], Train Loss: 0.1143, Validation Loss: 0.0920\n",
      "Epoch [77/100], Train Loss: 0.1077, Validation Loss: 0.0913\n",
      "Epoch [78/100], Train Loss: 0.1099, Validation Loss: 0.0906\n",
      "Epoch [79/100], Train Loss: 0.1128, Validation Loss: 0.0899\n",
      "Epoch [80/100], Train Loss: 0.1094, Validation Loss: 0.0891\n",
      "Epoch [81/100], Train Loss: 0.1047, Validation Loss: 0.0884\n",
      "Epoch [82/100], Train Loss: 0.1087, Validation Loss: 0.0878\n",
      "Epoch [83/100], Train Loss: 0.1030, Validation Loss: 0.0872\n",
      "Epoch [84/100], Train Loss: 0.1033, Validation Loss: 0.0865\n",
      "Epoch [85/100], Train Loss: 0.1043, Validation Loss: 0.0859\n",
      "Epoch [86/100], Train Loss: 0.1002, Validation Loss: 0.0853\n",
      "Epoch [87/100], Train Loss: 0.1013, Validation Loss: 0.0848\n",
      "Epoch [88/100], Train Loss: 0.1089, Validation Loss: 0.0842\n",
      "Epoch [89/100], Train Loss: 0.1025, Validation Loss: 0.0837\n",
      "Epoch [90/100], Train Loss: 0.1057, Validation Loss: 0.0832\n",
      "Epoch [91/100], Train Loss: 0.0986, Validation Loss: 0.0827\n",
      "Epoch [92/100], Train Loss: 0.1050, Validation Loss: 0.0822\n",
      "Epoch [93/100], Train Loss: 0.1010, Validation Loss: 0.0817\n",
      "Epoch [94/100], Train Loss: 0.0994, Validation Loss: 0.0814\n",
      "Epoch [95/100], Train Loss: 0.0966, Validation Loss: 0.0809\n",
      "Epoch [96/100], Train Loss: 0.0954, Validation Loss: 0.0804\n",
      "Epoch [97/100], Train Loss: 0.0961, Validation Loss: 0.0800\n",
      "Epoch [98/100], Train Loss: 0.0986, Validation Loss: 0.0796\n",
      "Epoch [99/100], Train Loss: 0.0957, Validation Loss: 0.0792\n",
      "Epoch [100/100], Train Loss: 0.0928, Validation Loss: 0.0787\n"
     ]
    }
   ],
   "source": [
    "# Loop over epochs\n",
    "for epoch in range(num_epochs):\n",
    "    model.train()  # Set the model to training mode\n",
    "    train_loss_epoch = 0.0\n",
    "    for inputs, targets in train_loader:\n",
    "        optimizer.zero_grad()  # Zero the gradients\n",
    "        outputs = model(inputs)  # Forward pass\n",
    "        loss = loss_function(outputs, targets)  # Calculate loss\n",
    "        loss.backward()  # Backward pass\n",
    "        optimizer.step()  # Update weights\n",
    "        train_loss_epoch += loss.item()\n",
    "\n",
    "    # Average training loss for this epoch\n",
    "    train_loss_epoch /= len(train_loader)\n",
    "    train_losses.append(train_loss_epoch)\n",
    "\n",
    "    # Validation phase\n",
    "    model.eval()  # Set the model to evaluation mode\n",
    "    val_loss_epoch = 0.0\n",
    "    with torch.no_grad():  # No gradients needed for validation\n",
    "        for inputs, targets in val_loader:\n",
    "            outputs = model(inputs)\n",
    "            loss = loss_function(outputs, targets)\n",
    "            val_loss_epoch += loss.item()\n",
    "\n",
    "    # Average validation loss for this epoch\n",
    "    val_loss_epoch /= len(val_loader)\n",
    "    val_losses.append(val_loss_epoch)\n",
    "\n",
    "    # Print the losses for each epoch\n",
    "    print(f\"Epoch [{epoch+1}/{num_epochs}], Train Loss: {train_loss_epoch:.4f}, Validation Loss: {val_loss_epoch:.4f}\")\n",
    "\n",
    "    # Early stopping check\n",
    "    if val_loss_epoch < best_val_loss:\n",
    "        best_val_loss = val_loss_epoch\n",
    "        epochs_without_improvement = 0  # Reset counter if we have improvement\n",
    "    else:\n",
    "        epochs_without_improvement += 1\n",
    "    \n",
    "    # Stop training if no improvement for 'patience' epochs\n",
    "    if epochs_without_improvement >= patience:\n",
    "        print(f\"Early stopping triggered at epoch {epoch+1}\")\n",
    "        early_stopping_triggered = True\n",
    "        break"
   ]
  },
  {
   "cell_type": "code",
   "execution_count": 53,
   "id": "9bcb79c1-2de9-4833-8e79-77cb7fdf222d",
   "metadata": {},
   "outputs": [
    {
     "data": {
      "image/png": "[encoded data removed]",
      "text/plain": [
       "<Figure size 1000x500 with 1 Axes>"
      ]
     },
     "metadata": {},
     "output_type": "display_data"
    }
   ],
   "source": [
    "# Plotting the training and validation loss curves\n",
    "import matplotlib.pyplot as plt\n",
    "\n",
    "plt.figure(figsize=(10, 5))\n",
    "plt.plot(train_losses, label='Train Loss')\n",
    "plt.plot(val_losses, label='Validation Loss')\n",
    "plt.xlabel('Epoch')\n",
    "plt.ylabel('Loss')\n",
    "plt.title('Training and Validation Loss over Epochs')\n",
    "plt.legend()\n",
    "plt.show()"
   ]
  },
  {
   "cell_type": "code",
   "execution_count": 58,
   "id": "2595ede0-88ba-4802-ba06-37166d1c50b5",
   "metadata": {},
   "outputs": [
    {
     "name": "stdout",
     "output_type": "stream",
     "text": [
      "Train Accuracy: 97.80%\n",
      "Test Accuracy: 98.25%\n"
     ]
    },
    {
     "name": "stderr",
     "output_type": "stream",
     "text": [
      "C:\\Users\\bhupe\\AppData\\Local\\Temp\\ipykernel_28336\\4270658714.py:9: UserWarning: To copy construct from a tensor, it is recommended to use sourceTensor.clone().detach() or sourceTensor.clone().detach().requires_grad_(True), rather than torch.tensor(sourceTensor).\n",
      "  X_test_tensor  = torch.tensor(X_test, dtype=torch.float32)\n"
     ]
    }
   ],
   "source": [
    "# Evaluate the model\n",
    "\n",
    "# sets the model in evaluation mode, which disables certain features like dropout and batch normalization \n",
    "# that are only used during training.\n",
    "model.eval()\n",
    "\n",
    "# Convert X_train and X_test to PyTorch tensors (if they are still NumPy arrays)\n",
    "X_train_tensor = torch.tensor(X_train, dtype=torch.float32)\n",
    "X_test_tensor  = torch.tensor(X_test, dtype=torch.float32)\n",
    "\n",
    "# This context manager disables gradient calculation, which is important for inference (prediction) \n",
    "# because it saves memory and computations. You don’t need gradients when evaluating the model, \n",
    "# as you're not updating the model’s parameters.\n",
    "with torch.no_grad():\n",
    "\n",
    "    # The model is applied to X_train to get the predicted outputs. \n",
    "    # this code compares the output of the model to 0.5 (for binary classification). \n",
    "    # If the model's output is greater than or equal to 0.5, it's classified as class 1, \n",
    "    # otherwise as class 0. \n",
    "    # The result is cast to a floating point tensor (either 0.0 or 1.0).\n",
    "    y_pred_train = (model(X_train_tensor) >= 0.5).float()\n",
    "    y_pred_test  = (model(X_test_tensor)  >= 0.5).float()\n",
    "\n",
    "# Calculate accuracy\n",
    "train_accuracy = accuracy_score(y_train, y_pred_train.numpy())\n",
    "test_accuracy  = accuracy_score(y_test,  y_pred_test.numpy())\n",
    "\n",
    "print(f\"Train Accuracy: {train_accuracy * 100:.2f}%\")\n",
    "print(f\"Test Accuracy: {test_accuracy * 100:.2f}%\")"
   ]
  },
  {
   "cell_type": "code",
   "execution_count": 59,
   "id": "bec0d2fd-ea8e-40eb-8dde-a4fe0a1e36e4",
   "metadata": {},
   "outputs": [
    {
     "data": {
      "text/plain": [
       "array([[42,  1],\n",
       "       [ 1, 70]], dtype=int64)"
      ]
     },
     "execution_count": 59,
     "metadata": {},
     "output_type": "execute_result"
    }
   ],
   "source": [
    "test_conf_matrix = confusion_matrix(y_test.numpy(),  y_pred_test.numpy())\n",
    "test_conf_matrix"
   ]
  },
  {
   "cell_type": "code",
   "execution_count": null,
   "id": "af3a96ec-69ad-4c4a-aad9-089304494510",
   "metadata": {},
   "outputs": [],
   "source": []
  }
 ],
 "metadata": {
  "kernelspec": {
   "display_name": "Python 3 (ipykernel)",
   "language": "python",
   "name": "python3"
  },
  "language_info": {
   "codemirror_mode": {
    "name": "ipython",
    "version": 3
   },
   "file_extension": ".py",
   "mimetype": "text/x-python",
   "name": "python",
   "nbconvert_exporter": "python",
   "pygments_lexer": "ipython3",
   "version": "3.12.3"
  }
 },
 "nbformat": 4,
 "nbformat_minor": 5
}
