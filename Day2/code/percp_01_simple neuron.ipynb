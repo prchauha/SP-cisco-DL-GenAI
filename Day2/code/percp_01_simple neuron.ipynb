{
 "cells": [
  {
   "cell_type": "markdown",
   "id": "22d64130-b754-4200-833c-999c25dcd522",
   "metadata": {},
   "source": [
    "------------------\n",
    "\n",
    "#### a simple linear regression model, simplest form of a neural network \n",
    "- with no `hidden layer`s. \n",
    "\n",
    "- `Inputs` (col1, col2): These represent the dendrites of a neuron, which receive signals from other neurons or external sources.\n",
    "\n",
    "- `Weights` (coef_col1, coef_col2): These represent the synaptic weights in a biological neuron. They determine the strength of the connection between the inputs and the neuron.\n",
    "\n",
    "- `Bias` (intercept): This represents the bias term in the neuron, which allows the neuron to adjust its output independently of the inputs.\n",
    "\n",
    "- `Activation function`: In this implementation, there's no activation function applied to the neuron's output. In a more complex neural network, an activation function like `ReLU` or `sigmoid` would be applied after the weighted sum of inputs and bias.\n",
    "\n",
    "- `Output`: This corresponds to the output signal of the neuron, which is computed by applying the activation function to the weighted sum of inputs and bias.\n",
    "\n",
    "---------------------------"
   ]
  },
  {
   "cell_type": "code",
   "execution_count": 2,
   "id": "97f27f48-a340-4e1e-b9d6-90d62aa47979",
   "metadata": {},
   "outputs": [],
   "source": [
    "import numpy as np\n",
    "import pandas as pd"
   ]
  },
  {
   "cell_type": "code",
   "execution_count": 16,
   "id": "bc0928ae-f81b-4ea2-ae21-c2bf2ae90ff7",
   "metadata": {},
   "outputs": [],
   "source": [
    "# Set up the data\n",
    "np.random.seed(0)\n",
    "data = {\n",
    "    'col1': [np.random.rand()],\n",
    "    'col2': [np.random.rand()],\n",
    "    'target': [10]\n",
    "}"
   ]
  },
  {
   "cell_type": "code",
   "execution_count": 17,
   "id": "377c7bec-b77f-4aa9-b144-7e8145aec0d5",
   "metadata": {},
   "outputs": [
    {
     "data": {
      "text/plain": [
       "{'col1': [0.5488135039273248], 'col2': [0.7151893663724195], 'target': [10]}"
      ]
     },
     "execution_count": 17,
     "metadata": {},
     "output_type": "execute_result"
    }
   ],
   "source": [
    "data"
   ]
  },
  {
   "cell_type": "code",
   "execution_count": 18,
   "id": "41e54354-6828-45e5-aeb8-d722b741eaef",
   "metadata": {},
   "outputs": [
    {
     "data": {
      "text/html": [
       "<div>\n",
       "<style scoped>\n",
       "    .dataframe tbody tr th:only-of-type {\n",
       "        vertical-align: middle;\n",
       "    }\n",
       "\n",
       "    .dataframe tbody tr th {\n",
       "        vertical-align: top;\n",
       "    }\n",
       "\n",
       "    .dataframe thead th {\n",
       "        text-align: right;\n",
       "    }\n",
       "</style>\n",
       "<table border=\"1\" class=\"dataframe\">\n",
       "  <thead>\n",
       "    <tr style=\"text-align: right;\">\n",
       "      <th></th>\n",
       "      <th>col1</th>\n",
       "      <th>col2</th>\n",
       "      <th>target</th>\n",
       "    </tr>\n",
       "  </thead>\n",
       "  <tbody>\n",
       "    <tr>\n",
       "      <th>0</th>\n",
       "      <td>0.548814</td>\n",
       "      <td>0.715189</td>\n",
       "      <td>10</td>\n",
       "    </tr>\n",
       "  </tbody>\n",
       "</table>\n",
       "</div>"
      ],
      "text/plain": [
       "       col1      col2  target\n",
       "0  0.548814  0.715189      10"
      ]
     },
     "execution_count": 18,
     "metadata": {},
     "output_type": "execute_result"
    }
   ],
   "source": [
    "df = pd.DataFrame(data)\n",
    "df"
   ]
  },
  {
   "cell_type": "code",
   "execution_count": 24,
   "id": "31bf24a2-20d2-4081-8165-b898229dc017",
   "metadata": {},
   "outputs": [],
   "source": [
    "# Initialize random coefficients\n",
    "coef_col1 = np.random.rand()\n",
    "coef_col2 = np.random.rand()\n",
    "intercept = 0"
   ]
  },
  {
   "cell_type": "code",
   "execution_count": 25,
   "id": "f23daf09-8ed6-4fb6-a954-0185eff3a4b2",
   "metadata": {},
   "outputs": [],
   "source": [
    "# Set learning rate\n",
    "learning_rate = .01"
   ]
  },
  {
   "cell_type": "code",
   "execution_count": 26,
   "id": "d98e5873-cf1d-441d-b748-316a34d66554",
   "metadata": {},
   "outputs": [],
   "source": [
    "# Define a function to calculate mean squared error\n",
    "def mean_squared_error(y_true, y_pred):\n",
    "    return np.mean((y_true - y_pred) ** 2)"
   ]
  },
  {
   "cell_type": "code",
   "execution_count": 27,
   "id": "6434f0c3-90ab-4517-9dd5-3c12774ce925",
   "metadata": {},
   "outputs": [],
   "source": [
    "# Define a function to calculate gradients\n",
    "def calculate_gradient(x1, x2, y_true, y_pred):\n",
    "    grad_coef_col1 = -2 * np.mean((y_true - y_pred) * x1)\n",
    "    grad_coef_col2 = -2 * np.mean((y_true - y_pred) * x2)\n",
    "    grad_intercept = -2 * np.mean(y_true - y_pred)\n",
    "    return grad_coef_col1, grad_coef_col2, grad_intercept"
   ]
  },
  {
   "cell_type": "code",
   "execution_count": 28,
   "id": "e096808e-f851-4862-87d2-6e3dcdefbbbf",
   "metadata": {},
   "outputs": [
    {
     "name": "stdout",
     "output_type": "stream",
     "text": [
      "Iteration 1:\n",
      "   Predicted: 0    0.694444\n",
      "dtype: float64\n",
      "   Loss: 86.5934\n",
      "   Gradients: col1=-10.2140, col2=-13.3105, intercept=-18.6111\n",
      "   Coefficients: col1=0.5258, col2=0.7790, intercept=0.1861\n",
      "\n",
      "Iteration 2:\n",
      "   Predicted: 0    1.031806\n",
      "dtype: float64\n",
      "   Loss: 80.4285\n",
      "   Gradients: col1=-9.8437, col2=-12.8279, intercept=-17.9364\n",
      "   Coefficients: col1=0.6242, col2=0.9073, intercept=0.3655\n",
      "\n",
      "Iteration 3:\n",
      "   Predicted: 0    1.356938\n",
      "dtype: float64\n",
      "   Loss: 74.7025\n",
      "   Gradients: col1=-9.4869, col2=-12.3629, intercept=-17.2861\n",
      "   Coefficients: col1=0.7191, col2=1.0309, intercept=0.5383\n",
      "\n",
      "Iteration 4:\n",
      "   Predicted: 0    1.670282\n",
      "dtype: float64\n",
      "   Loss: 69.3842\n",
      "   Gradients: col1=-9.1429, col2=-11.9147, intercept=-16.6594\n",
      "   Coefficients: col1=0.8105, col2=1.1501, intercept=0.7049\n",
      "\n",
      "Iteration 5:\n",
      "   Predicted: 0    1.972266\n",
      "dtype: float64\n",
      "   Loss: 64.4445\n",
      "   Gradients: col1=-8.8115, col2=-11.4827, intercept=-16.0555\n",
      "   Coefficients: col1=0.8986, col2=1.2649, intercept=0.8655\n",
      "\n"
     ]
    }
   ],
   "source": [
    "# Main loop\n",
    "for i in range(5):\n",
    "    # Calculate predicted values\n",
    "    predicted = coef_col1 * df['col1'] + coef_col2 * df['col2'] + intercept\n",
    "    \n",
    "    # Calculate mean squared error\n",
    "    loss = mean_squared_error(df['target'], predicted)\n",
    "    \n",
    "    # Calculate gradients\n",
    "    grad_coef_col1, grad_coef_col2, grad_intercept = calculate_gradient(df['col1'], df['col2'], df['target'], predicted)\n",
    "    \n",
    "    # Update coefficients\n",
    "    coef_col1 -= learning_rate * grad_coef_col1\n",
    "    coef_col2 -= learning_rate * grad_coef_col2\n",
    "    intercept -= learning_rate * grad_intercept\n",
    "    \n",
    "    # Debug information\n",
    "    print(f\"Iteration {i+1}:\")\n",
    "    print(f\"   Predicted: {predicted}\")\n",
    "    print(f\"   Loss: {loss:.4f}\")\n",
    "    print(f\"   Gradients: col1={grad_coef_col1:.4f}, col2={grad_coef_col2:.4f}, intercept={grad_intercept:.4f}\")\n",
    "    print(f\"   Coefficients: col1={coef_col1:.4f}, col2={coef_col2:.4f}, intercept={intercept:.4f}\")\n",
    "    print()"
   ]
  },
  {
   "cell_type": "code",
   "execution_count": null,
   "id": "66d03b0d-de6f-411a-9dde-534bf8632fd3",
   "metadata": {},
   "outputs": [],
   "source": []
  },
  {
   "cell_type": "code",
   "execution_count": null,
   "id": "6f25550b-71d5-4c15-9852-a183d14b15ef",
   "metadata": {},
   "outputs": [],
   "source": []
  }
 ],
 "metadata": {
  "kernelspec": {
   "display_name": "Python 3 (ipykernel)",
   "language": "python",
   "name": "python3"
  },
  "language_info": {
   "codemirror_mode": {
    "name": "ipython",
    "version": 3
   },
   "file_extension": ".py",
   "mimetype": "text/x-python",
   "name": "python",
   "nbconvert_exporter": "python",
   "pygments_lexer": "ipython3",
   "version": "3.12.3"
  }
 },
 "nbformat": 4,
 "nbformat_minor": 5
}
