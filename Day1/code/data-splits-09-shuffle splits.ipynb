{
 "cells": [
  {
   "cell_type": "code",
   "execution_count": 1,
   "id": "e34aabb5-8617-4c7f-9088-7bf15413e8c0",
   "metadata": {},
   "outputs": [],
   "source": [
    "import numpy as np\n",
    "from sklearn.model_selection import ShuffleSplit"
   ]
  },
  {
   "cell_type": "code",
   "execution_count": 2,
   "id": "731d1980-9644-40b4-a201-af05b36fde7b",
   "metadata": {},
   "outputs": [],
   "source": [
    "# Generating dummy data\n",
    "np.random.seed(42)"
   ]
  },
  {
   "cell_type": "code",
   "execution_count": 3,
   "id": "21cd87f4-c8e1-4752-94e9-9eedccde33ce",
   "metadata": {},
   "outputs": [],
   "source": [
    "# Two predictor columns\n",
    "predictor1 = np.random.rand(20)\n",
    "predictor2 = np.random.rand(20)"
   ]
  },
  {
   "cell_type": "code",
   "execution_count": 4,
   "id": "2fe1bc81-675a-46a6-a05b-612e70ea2934",
   "metadata": {},
   "outputs": [],
   "source": [
    "# Binary target column\n",
    "target = np.random.randint(2, size=20)"
   ]
  },
  {
   "cell_type": "code",
   "execution_count": 5,
   "id": "a2981867-9d35-4c64-b65e-6f796f796f43",
   "metadata": {},
   "outputs": [],
   "source": [
    "# Combine predictors into a feature matrix\n",
    "X = np.column_stack((predictor1, predictor2))"
   ]
  },
  {
   "cell_type": "code",
   "execution_count": 6,
   "id": "f8bb5044-a71e-4c8f-898d-2d29638960a9",
   "metadata": {},
   "outputs": [
    {
     "data": {
      "text/plain": [
       "array([[0.37454012, 0.61185289],\n",
       "       [0.95071431, 0.13949386],\n",
       "       [0.73199394, 0.29214465],\n",
       "       [0.59865848, 0.36636184],\n",
       "       [0.15601864, 0.45606998],\n",
       "       [0.15599452, 0.78517596],\n",
       "       [0.05808361, 0.19967378],\n",
       "       [0.86617615, 0.51423444],\n",
       "       [0.60111501, 0.59241457],\n",
       "       [0.70807258, 0.04645041],\n",
       "       [0.02058449, 0.60754485],\n",
       "       [0.96990985, 0.17052412],\n",
       "       [0.83244264, 0.06505159],\n",
       "       [0.21233911, 0.94888554],\n",
       "       [0.18182497, 0.96563203],\n",
       "       [0.18340451, 0.80839735],\n",
       "       [0.30424224, 0.30461377],\n",
       "       [0.52475643, 0.09767211],\n",
       "       [0.43194502, 0.68423303],\n",
       "       [0.29122914, 0.44015249]])"
      ]
     },
     "execution_count": 6,
     "metadata": {},
     "output_type": "execute_result"
    }
   ],
   "source": [
    "X"
   ]
  },
  {
   "cell_type": "code",
   "execution_count": 7,
   "id": "a5bed427-d81e-449b-ae3b-9b690bbc2da5",
   "metadata": {},
   "outputs": [],
   "source": [
    "# Specify the number of splits\n",
    "n_splits = 3"
   ]
  },
  {
   "cell_type": "code",
   "execution_count": 8,
   "id": "719589fa-bf7b-4c5c-8f3d-5fe871fc7722",
   "metadata": {},
   "outputs": [],
   "source": [
    "# Specify the test set size\n",
    "test_size = 0.2"
   ]
  },
  {
   "cell_type": "code",
   "execution_count": 9,
   "id": "36e4f800-c1a0-4be7-ae82-53f3fb044d05",
   "metadata": {},
   "outputs": [],
   "source": [
    "# Perform Shuffle Split cross-validation\n",
    "ss = ShuffleSplit(n_splits=n_splits, test_size=test_size, random_state=42)"
   ]
  },
  {
   "cell_type": "code",
   "execution_count": 10,
   "id": "7dd3c418-74e2-4d4a-96ed-5e31859d1017",
   "metadata": {},
   "outputs": [],
   "source": [
    "# Counter to track the split number\n",
    "split_count = 0"
   ]
  },
  {
   "cell_type": "code",
   "execution_count": 11,
   "id": "2fb24eca-024b-401f-b614-2bd74614c40b",
   "metadata": {},
   "outputs": [
    {
     "name": "stdout",
     "output_type": "stream",
     "text": [
      "Split 1 - Train set: 16 samples, Test set: 4 samples\n",
      "X_train: [[0.60111501 0.59241457]\n",
      " [0.15599452 0.78517596]\n",
      " [0.96990985 0.17052412]\n",
      " [0.59865848 0.36636184]\n",
      " [0.43194502 0.68423303]\n",
      " [0.30424224 0.30461377]\n",
      " [0.21233911 0.94888554]\n",
      " [0.73199394 0.29214465]\n",
      " [0.70807258 0.04645041]\n",
      " [0.29122914 0.44015249]\n",
      " [0.15601864 0.45606998]\n",
      " [0.83244264 0.06505159]\n",
      " [0.86617615 0.51423444]\n",
      " [0.02058449 0.60754485]\n",
      " [0.18182497 0.96563203]\n",
      " [0.05808361 0.19967378]], X_test: [[0.37454012 0.61185289]\n",
      " [0.52475643 0.09767211]\n",
      " [0.18340451 0.80839735]\n",
      " [0.95071431 0.13949386]]\n",
      "y_train: [1 0 1 1 1 1 1 0 1 0 0 1 0 1 1 1], y_test: [0 1 1 1]\n",
      "------------------------------\n",
      "Split 2 - Train set: 16 samples, Test set: 4 samples\n",
      "X_train: [[0.15601864 0.45606998]\n",
      " [0.83244264 0.06505159]\n",
      " [0.18182497 0.96563203]\n",
      " [0.86617615 0.51423444]\n",
      " [0.59865848 0.36636184]\n",
      " [0.05808361 0.19967378]\n",
      " [0.73199394 0.29214465]\n",
      " [0.70807258 0.04645041]\n",
      " [0.21233911 0.94888554]\n",
      " [0.02058449 0.60754485]\n",
      " [0.43194502 0.68423303]\n",
      " [0.60111501 0.59241457]\n",
      " [0.52475643 0.09767211]\n",
      " [0.96990985 0.17052412]\n",
      " [0.37454012 0.61185289]\n",
      " [0.95071431 0.13949386]], X_test: [[0.29122914 0.44015249]\n",
      " [0.30424224 0.30461377]\n",
      " [0.18340451 0.80839735]\n",
      " [0.15599452 0.78517596]]\n",
      "y_train: [0 1 1 0 1 1 0 1 1 1 1 1 1 1 0 1], y_test: [0 1 1 0]\n",
      "------------------------------\n",
      "Split 3 - Train set: 16 samples, Test set: 4 samples\n",
      "X_train: [[0.15599452 0.78517596]\n",
      " [0.43194502 0.68423303]\n",
      " [0.30424224 0.30461377]\n",
      " [0.83244264 0.06505159]\n",
      " [0.15601864 0.45606998]\n",
      " [0.18182497 0.96563203]\n",
      " [0.18340451 0.80839735]\n",
      " [0.70807258 0.04645041]\n",
      " [0.95071431 0.13949386]\n",
      " [0.21233911 0.94888554]\n",
      " [0.96990985 0.17052412]\n",
      " [0.29122914 0.44015249]\n",
      " [0.59865848 0.36636184]\n",
      " [0.52475643 0.09767211]\n",
      " [0.05808361 0.19967378]\n",
      " [0.60111501 0.59241457]], X_test: [[0.02058449 0.60754485]\n",
      " [0.86617615 0.51423444]\n",
      " [0.37454012 0.61185289]\n",
      " [0.73199394 0.29214465]]\n",
      "y_train: [0 1 1 1 0 1 1 1 1 1 1 0 1 1 1 1], y_test: [1 0 0 0]\n",
      "------------------------------\n"
     ]
    }
   ],
   "source": [
    "# Print train-test splits for each iteration\n",
    "for train_index, test_index in ss.split(X):\n",
    "    X_train, X_test = X[train_index], X[test_index]\n",
    "    y_train, y_test = target[train_index], target[test_index]\n",
    "\n",
    "    print(f\"Split {split_count + 1} - Train set: {len(X_train)} samples, Test set: {len(X_test)} samples\")\n",
    "    print(f\"X_train: {X_train}, X_test: {X_test}\")\n",
    "    print(f\"y_train: {y_train}, y_test: {y_test}\")\n",
    "    print(\"-\" * 30)\n",
    "\n",
    "    split_count += 1"
   ]
  },
  {
   "cell_type": "code",
   "execution_count": null,
   "id": "69d9dcd0-eeb3-4689-9c7d-dd489465fb62",
   "metadata": {},
   "outputs": [],
   "source": []
  }
 ],
 "metadata": {
  "kernelspec": {
   "display_name": "Python 3 (ipykernel)",
   "language": "python",
   "name": "python3"
  },
  "language_info": {
   "codemirror_mode": {
    "name": "ipython",
    "version": 3
   },
   "file_extension": ".py",
   "mimetype": "text/x-python",
   "name": "python",
   "nbconvert_exporter": "python",
   "pygments_lexer": "ipython3",
   "version": "3.9.13"
  }
 },
 "nbformat": 4,
 "nbformat_minor": 5
}
