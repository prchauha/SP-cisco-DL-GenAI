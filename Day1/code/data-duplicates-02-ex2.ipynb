{
 "cells": [
  {
   "cell_type": "code",
   "execution_count": 1,
   "id": "cd1a4aff-6ab7-4e62-a6b5-d15eb2e9dced",
   "metadata": {},
   "outputs": [],
   "source": [
    "import pandas as pd"
   ]
  },
  {
   "cell_type": "code",
   "execution_count": 2,
   "id": "119fe0a5-c0a1-4aa4-919a-8c9db2935bb2",
   "metadata": {},
   "outputs": [],
   "source": [
    "# Sample DataFrame with Indian, Arab, and Israeli Names, City, and Job columns\n",
    "data = {\n",
    "    'Name': ['Arjun', 'Fatima', 'Ravi', 'David', 'Ayesha', \n",
    "             'Zara', 'Yosef', 'Arjun', 'Fatima', 'Ravi'],\n",
    "    'City': ['Mumbai', 'Dubai', 'Delhi', 'Tel Aviv', 'Dubai', \n",
    "             'Jerusalem', 'Tel Aviv', 'Mumbai', 'Dubai', 'Delhi'],\n",
    "    'Job':  ['Engineer', 'Doctor', 'Artist', 'Engineer', 'Doctor', \n",
    "             'Artist', 'Engineer', 'Engineer', 'Doctor', 'Artist']\n",
    "}"
   ]
  },
  {
   "cell_type": "code",
   "execution_count": 3,
   "id": "537720dd-de6a-4fba-bcd4-8e8b6d7f6d94",
   "metadata": {},
   "outputs": [
    {
     "data": {
      "text/html": [
       "<div>\n",
       "<style scoped>\n",
       "    .dataframe tbody tr th:only-of-type {\n",
       "        vertical-align: middle;\n",
       "    }\n",
       "\n",
       "    .dataframe tbody tr th {\n",
       "        vertical-align: top;\n",
       "    }\n",
       "\n",
       "    .dataframe thead th {\n",
       "        text-align: right;\n",
       "    }\n",
       "</style>\n",
       "<table border=\"1\" class=\"dataframe\">\n",
       "  <thead>\n",
       "    <tr style=\"text-align: right;\">\n",
       "      <th></th>\n",
       "      <th>Name</th>\n",
       "      <th>City</th>\n",
       "      <th>Job</th>\n",
       "    </tr>\n",
       "  </thead>\n",
       "  <tbody>\n",
       "    <tr>\n",
       "      <th>0</th>\n",
       "      <td>Arjun</td>\n",
       "      <td>Mumbai</td>\n",
       "      <td>Engineer</td>\n",
       "    </tr>\n",
       "    <tr>\n",
       "      <th>1</th>\n",
       "      <td>Fatima</td>\n",
       "      <td>Dubai</td>\n",
       "      <td>Doctor</td>\n",
       "    </tr>\n",
       "    <tr>\n",
       "      <th>2</th>\n",
       "      <td>Ravi</td>\n",
       "      <td>Delhi</td>\n",
       "      <td>Artist</td>\n",
       "    </tr>\n",
       "    <tr>\n",
       "      <th>3</th>\n",
       "      <td>David</td>\n",
       "      <td>Tel Aviv</td>\n",
       "      <td>Engineer</td>\n",
       "    </tr>\n",
       "    <tr>\n",
       "      <th>4</th>\n",
       "      <td>Ayesha</td>\n",
       "      <td>Dubai</td>\n",
       "      <td>Doctor</td>\n",
       "    </tr>\n",
       "    <tr>\n",
       "      <th>5</th>\n",
       "      <td>Zara</td>\n",
       "      <td>Jerusalem</td>\n",
       "      <td>Artist</td>\n",
       "    </tr>\n",
       "    <tr>\n",
       "      <th>6</th>\n",
       "      <td>Yosef</td>\n",
       "      <td>Tel Aviv</td>\n",
       "      <td>Engineer</td>\n",
       "    </tr>\n",
       "    <tr>\n",
       "      <th>7</th>\n",
       "      <td>Arjun</td>\n",
       "      <td>Mumbai</td>\n",
       "      <td>Engineer</td>\n",
       "    </tr>\n",
       "    <tr>\n",
       "      <th>8</th>\n",
       "      <td>Fatima</td>\n",
       "      <td>Dubai</td>\n",
       "      <td>Doctor</td>\n",
       "    </tr>\n",
       "    <tr>\n",
       "      <th>9</th>\n",
       "      <td>Ravi</td>\n",
       "      <td>Delhi</td>\n",
       "      <td>Artist</td>\n",
       "    </tr>\n",
       "  </tbody>\n",
       "</table>\n",
       "</div>"
      ],
      "text/plain": [
       "     Name       City       Job\n",
       "0   Arjun     Mumbai  Engineer\n",
       "1  Fatima      Dubai    Doctor\n",
       "2    Ravi      Delhi    Artist\n",
       "3   David   Tel Aviv  Engineer\n",
       "4  Ayesha      Dubai    Doctor\n",
       "5    Zara  Jerusalem    Artist\n",
       "6   Yosef   Tel Aviv  Engineer\n",
       "7   Arjun     Mumbai  Engineer\n",
       "8  Fatima      Dubai    Doctor\n",
       "9    Ravi      Delhi    Artist"
      ]
     },
     "execution_count": 3,
     "metadata": {},
     "output_type": "execute_result"
    }
   ],
   "source": [
    "df = pd.DataFrame(data)\n",
    "df"
   ]
  },
  {
   "cell_type": "markdown",
   "id": "b1f3cf7f-3580-475e-85da-b25878c59a7c",
   "metadata": {},
   "source": [
    "`keep='first' (default)`"
   ]
  },
  {
   "cell_type": "code",
   "execution_count": 4,
   "id": "3adc00c5-b585-4749-8950-ed13b2e79a46",
   "metadata": {},
   "outputs": [
    {
     "name": "stdout",
     "output_type": "stream",
     "text": [
      "\n",
      "Duplicates marked with keep='first':\n",
      "0    False\n",
      "1    False\n",
      "2    False\n",
      "3    False\n",
      "4    False\n",
      "5    False\n",
      "6    False\n",
      "7     True\n",
      "8     True\n",
      "9     True\n",
      "dtype: bool\n"
     ]
    }
   ],
   "source": [
    "# Identifying duplicates, keeping the first occurrence\n",
    "duplicates_first = df.duplicated(keep='first')\n",
    "\n",
    "print(\"\\nDuplicates marked with keep='first':\")\n",
    "print(duplicates_first)"
   ]
  },
  {
   "cell_type": "markdown",
   "id": "eb40235d-9708-4714-8e28-f5609c99a93c",
   "metadata": {},
   "source": [
    "`Explanation`: The first occurrence of each duplicate is marked as False, and subsequent duplicates are marked as True."
   ]
  },
  {
   "cell_type": "markdown",
   "id": "4b68ccbf-0f85-4df9-bb06-b9a18d07521e",
   "metadata": {},
   "source": [
    "`keep='last'`"
   ]
  },
  {
   "cell_type": "code",
   "execution_count": 5,
   "id": "c36af376-169c-4591-9dd3-8c910fe2ba88",
   "metadata": {},
   "outputs": [
    {
     "name": "stdout",
     "output_type": "stream",
     "text": [
      "\n",
      "Duplicates marked with keep='last':\n",
      "0     True\n",
      "1     True\n",
      "2     True\n",
      "3    False\n",
      "4    False\n",
      "5    False\n",
      "6    False\n",
      "7    False\n",
      "8    False\n",
      "9    False\n",
      "dtype: bool\n"
     ]
    }
   ],
   "source": [
    "# Identifying duplicates, keeping the last occurrence\n",
    "duplicates_last = df.duplicated(keep='last')\n",
    "print(\"\\nDuplicates marked with keep='last':\")\n",
    "print(duplicates_last)"
   ]
  },
  {
   "cell_type": "markdown",
   "id": "d79b9017-60f5-4242-a2a8-f2f9a3964187",
   "metadata": {},
   "source": [
    "`Explanation`: The last occurrence of each duplicate is marked as False, and preceding duplicates are marked as True."
   ]
  },
  {
   "cell_type": "markdown",
   "id": "92a4b78c-4f31-482c-bbcc-58c65d2d5520",
   "metadata": {},
   "source": [
    "`keep=False`"
   ]
  },
  {
   "cell_type": "code",
   "execution_count": 6,
   "id": "46e5f8bd-89ab-4087-8769-d3686ff7bf6c",
   "metadata": {},
   "outputs": [
    {
     "name": "stdout",
     "output_type": "stream",
     "text": [
      "\n",
      "Duplicates marked with keep=False:\n",
      "0     True\n",
      "1     True\n",
      "2     True\n",
      "3    False\n",
      "4    False\n",
      "5    False\n",
      "6    False\n",
      "7     True\n",
      "8     True\n",
      "9     True\n",
      "dtype: bool\n"
     ]
    }
   ],
   "source": [
    "# Identifying duplicates, marking all duplicates\n",
    "duplicates_all = df.duplicated(keep=False)\n",
    "print(\"\\nDuplicates marked with keep=False:\")\n",
    "print(duplicates_all)"
   ]
  },
  {
   "cell_type": "markdown",
   "id": "69f3af2a-eeac-4daf-9797-1b7caa2979e8",
   "metadata": {},
   "source": [
    "`Explanation`: All occurrences of the duplicates are marked as True."
   ]
  },
  {
   "cell_type": "markdown",
   "id": "572b6fa6-645b-4001-bbaf-214de16a2ece",
   "metadata": {},
   "source": [
    "Using `subset Parameter`\n",
    "\n",
    "- Considering only columns 'Name' and 'City':"
   ]
  },
  {
   "cell_type": "code",
   "execution_count": 7,
   "id": "db172c2b-1dba-4e24-9944-cd034d6537e4",
   "metadata": {},
   "outputs": [
    {
     "name": "stdout",
     "output_type": "stream",
     "text": [
      "\n",
      "Duplicates based on subset=['Name', 'City']:\n",
      "0    False\n",
      "1    False\n",
      "2    False\n",
      "3    False\n",
      "4    False\n",
      "5    False\n",
      "6    False\n",
      "7     True\n",
      "8     True\n",
      "9     True\n",
      "dtype: bool\n"
     ]
    }
   ],
   "source": [
    "# Identifying duplicates based on columns Name and City only\n",
    "duplicates_subset = df.duplicated(subset=['Name', 'City'], keep='first')\n",
    "print(\"\\nDuplicates based on subset=['Name', 'City']:\")\n",
    "print(duplicates_subset)"
   ]
  },
  {
   "cell_type": "markdown",
   "id": "76e4ec59-7cff-4623-9588-6d33b7f26db2",
   "metadata": {},
   "source": [
    "`Dropping Duplicates`\n",
    "- Dropping duplicates while keeping the first occurrence:"
   ]
  },
  {
   "cell_type": "code",
   "execution_count": 8,
   "id": "f35aaab8-65b1-441e-89b2-305f8eb0c5d8",
   "metadata": {},
   "outputs": [
    {
     "name": "stdout",
     "output_type": "stream",
     "text": [
      "\n",
      "DataFrame after dropping duplicates (keep='first'):\n",
      "     Name       City       Job\n",
      "0   Arjun     Mumbai  Engineer\n",
      "1  Fatima      Dubai    Doctor\n",
      "2    Ravi      Delhi    Artist\n",
      "3   David   Tel Aviv  Engineer\n",
      "4  Ayesha      Dubai    Doctor\n",
      "5    Zara  Jerusalem    Artist\n",
      "6   Yosef   Tel Aviv  Engineer\n"
     ]
    }
   ],
   "source": [
    "# Dropping duplicates, keeping the first occurrence\n",
    "df_no_duplicates = df.drop_duplicates(keep='first')\n",
    "print(\"\\nDataFrame after dropping duplicates (keep='first'):\")\n",
    "print(df_no_duplicates)"
   ]
  },
  {
   "cell_type": "markdown",
   "id": "d9e3759f-884d-41d2-af4c-ddeb858dc36d",
   "metadata": {},
   "source": [
    "Explanation: Only the first occurrence of each duplicated row is kept, and all other duplicates are dropped."
   ]
  },
  {
   "cell_type": "code",
   "execution_count": null,
   "id": "beb97d32-2fe5-401a-9509-98fd94cf3f56",
   "metadata": {},
   "outputs": [],
   "source": []
  }
 ],
 "metadata": {
  "kernelspec": {
   "display_name": "Python 3 (ipykernel)",
   "language": "python",
   "name": "python3"
  },
  "language_info": {
   "codemirror_mode": {
    "name": "ipython",
    "version": 3
   },
   "file_extension": ".py",
   "mimetype": "text/x-python",
   "name": "python",
   "nbconvert_exporter": "python",
   "pygments_lexer": "ipython3",
   "version": "3.9.13"
  }
 },
 "nbformat": 4,
 "nbformat_minor": 5
}
