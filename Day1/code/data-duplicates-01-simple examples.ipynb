{
 "cells": [
  {
   "cell_type": "markdown",
   "id": "344dd247-611c-48e9-a857-b3f20829f18c",
   "metadata": {},
   "source": [
    "## checking sanity of datasets\n",
    "\n",
    "#### duplicates"
   ]
  },
  {
   "cell_type": "markdown",
   "id": "12f406bb-bb96-4a36-b23d-e9f66fc5088b",
   "metadata": {},
   "source": [
    "#### How Duplicates in Data Can Be an Issue\n",
    "\n",
    "While Random Forests handle duplicates through bootstrapping, there are still some scenarios where duplicates in the original data can be problematic:\n",
    "\n",
    "1. **Bias in Data Representation**:\n",
    "   - If duplicates exist in the original dataset due to errors or improper data collection, they can over-represent certain samples or classes.\n",
    "   - Example: If fraudulent transactions are duplicated due to a data entry error, the model might learn an incorrect bias, thinking such transactions are more common than they actually are.\n",
    "\n",
    "2. **Reduction in Data Variability**:\n",
    "   - Duplicates reduce the overall variability in the data. Since Random Forests rely on the diversity of data seen by each tree to make accurate predictions, reducing variability through excessive duplication can diminish the model's performance.\n",
    "   - Example: If your dataset is small and contains many duplicates, the bootstrap samples may not be as diverse as they could be, leading to less robust decision trees.\n",
    "\n",
    "3. **Impact on Feature Importance**:\n",
    "   - Duplicates can artificially inflate the importance of features associated with the duplicated samples. The model might incorrectly prioritize certain features that correlate with the duplicated entries, leading to biased feature importance rankings.\n",
    "   - Example: If a particular feature is strongly associated with duplicated entries, the model might overestimate its significance, potentially skewing the interpretation of feature importance.\n",
    "\n",
    "4. **Overfitting on Duplicated Samples**:\n",
    "   - Although Random Forests are generally resistant to overfitting due to their ensemble nature, excessive duplication can still lead to overfitting on the duplicated samples. This is especially true if the duplicates are concentrated in specific areas of the feature space.\n",
    "   - Example: If all duplicates belong to a particular class or region in the feature space, the model might become too specialized in that region, reducing its ability to generalize to unseen data.\n"
   ]
  },
  {
   "cell_type": "code",
   "execution_count": 1,
   "id": "489273bc-68c6-4195-b6d9-6a35f8a76bb5",
   "metadata": {
    "tags": []
   },
   "outputs": [],
   "source": [
    "import pandas as pd\n",
    "import numpy as np\n",
    "\n",
    "from IPython.display import Image"
   ]
  },
  {
   "cell_type": "code",
   "execution_count": 2,
   "id": "d16cc9f8-4790-4812-8857-488cc82fe81d",
   "metadata": {
    "tags": []
   },
   "outputs": [
    {
     "data": {
      "text/html": [
       "<div>\n",
       "<style scoped>\n",
       "    .dataframe tbody tr th:only-of-type {\n",
       "        vertical-align: middle;\n",
       "    }\n",
       "\n",
       "    .dataframe tbody tr th {\n",
       "        vertical-align: top;\n",
       "    }\n",
       "\n",
       "    .dataframe thead th {\n",
       "        text-align: right;\n",
       "    }\n",
       "</style>\n",
       "<table border=\"1\" class=\"dataframe\">\n",
       "  <thead>\n",
       "    <tr style=\"text-align: right;\">\n",
       "      <th></th>\n",
       "      <th>Name</th>\n",
       "      <th>Age</th>\n",
       "      <th>City</th>\n",
       "    </tr>\n",
       "  </thead>\n",
       "  <tbody>\n",
       "    <tr>\n",
       "      <th>0</th>\n",
       "      <td>Sri</td>\n",
       "      <td>34</td>\n",
       "      <td>Sydeny</td>\n",
       "    </tr>\n",
       "    <tr>\n",
       "      <th>1</th>\n",
       "      <td>Sai</td>\n",
       "      <td>30</td>\n",
       "      <td>Delhi</td>\n",
       "    </tr>\n",
       "    <tr>\n",
       "      <th>2</th>\n",
       "      <td>Anand</td>\n",
       "      <td>16</td>\n",
       "      <td>Singapore</td>\n",
       "    </tr>\n",
       "    <tr>\n",
       "      <th>3</th>\n",
       "      <td>Steve</td>\n",
       "      <td>30</td>\n",
       "      <td>Delhi</td>\n",
       "    </tr>\n",
       "    <tr>\n",
       "      <th>4</th>\n",
       "      <td>Anand</td>\n",
       "      <td>16</td>\n",
       "      <td>Singapore</td>\n",
       "    </tr>\n",
       "    <tr>\n",
       "      <th>5</th>\n",
       "      <td>Priti</td>\n",
       "      <td>30</td>\n",
       "      <td>Mumbai</td>\n",
       "    </tr>\n",
       "    <tr>\n",
       "      <th>6</th>\n",
       "      <td>popcorn.ai</td>\n",
       "      <td>40</td>\n",
       "      <td>Delhi</td>\n",
       "    </tr>\n",
       "    <tr>\n",
       "      <th>7</th>\n",
       "      <td>popcorn.ai</td>\n",
       "      <td>30</td>\n",
       "      <td>Delhi</td>\n",
       "    </tr>\n",
       "    <tr>\n",
       "      <th>8</th>\n",
       "      <td>Anand</td>\n",
       "      <td>16</td>\n",
       "      <td>Singapore</td>\n",
       "    </tr>\n",
       "  </tbody>\n",
       "</table>\n",
       "</div>"
      ],
      "text/plain": [
       "         Name  Age       City\n",
       "0         Sri   34     Sydeny\n",
       "1         Sai   30      Delhi\n",
       "2       Anand   16  Singapore\n",
       "3       Steve   30      Delhi\n",
       "4       Anand   16  Singapore\n",
       "5       Priti   30     Mumbai\n",
       "6  popcorn.ai   40      Delhi\n",
       "7  popcorn.ai   30      Delhi\n",
       "8       Anand   16  Singapore"
      ]
     },
     "execution_count": 2,
     "metadata": {},
     "output_type": "execute_result"
    }
   ],
   "source": [
    "students = [('Sri',    34, 'Sydeny'),\n",
    "            ('Sai',    30, 'Delhi'),\n",
    "            ('Anand',  16, 'Singapore'),\n",
    "            ('Steve',  30, 'Delhi'),\n",
    "            ('Anand',   16, 'Singapore'),\n",
    "            ('Priti',    30, 'Mumbai'),\n",
    "            ('popcorn.ai', 40, 'Delhi'),\n",
    "            ('popcorn.ai', 30, 'Delhi'),\n",
    "            ('Anand',   16, 'Singapore'),\n",
    "            ]\n",
    " \n",
    "# Create a DataFrame object\n",
    "df = pd.DataFrame(students, columns=['Name', 'Age', 'City'])\n",
    "df"
   ]
  },
  {
   "cell_type": "markdown",
   "id": "c952ab86-b952-40bd-a89a-543820a5f081",
   "metadata": {},
   "source": [
    "#### Find Duplicate Rows based on all columns"
   ]
  },
  {
   "cell_type": "code",
   "execution_count": 3,
   "id": "ed82ec81-f52b-45bc-bf5d-6ea8c8d354be",
   "metadata": {
    "tags": []
   },
   "outputs": [
    {
     "data": {
      "text/plain": [
       "0    False\n",
       "1    False\n",
       "2    False\n",
       "3    False\n",
       "4     True\n",
       "5    False\n",
       "6    False\n",
       "7    False\n",
       "8     True\n",
       "dtype: bool"
      ]
     },
     "execution_count": 3,
     "metadata": {},
     "output_type": "execute_result"
    }
   ],
   "source": [
    "df.duplicated()"
   ]
  },
  {
   "cell_type": "code",
   "execution_count": 4,
   "id": "c658ae51-1243-4d43-a559-d2fe817fec3c",
   "metadata": {
    "tags": []
   },
   "outputs": [
    {
     "data": {
      "text/plain": [
       "0    False\n",
       "1    False\n",
       "2     True\n",
       "3    False\n",
       "4     True\n",
       "5    False\n",
       "6    False\n",
       "7    False\n",
       "8    False\n",
       "dtype: bool"
      ]
     },
     "execution_count": 4,
     "metadata": {},
     "output_type": "execute_result"
    }
   ],
   "source": [
    "df.duplicated(keep='last')"
   ]
  },
  {
   "cell_type": "code",
   "execution_count": 5,
   "id": "b6bf1ee3-5c60-408c-9f90-77edb8d018d6",
   "metadata": {
    "tags": []
   },
   "outputs": [
    {
     "name": "stdout",
     "output_type": "stream",
     "text": [
      "Duplicate Rows except first occurrence based on all columns are :\n"
     ]
    },
    {
     "data": {
      "text/html": [
       "<div>\n",
       "<style scoped>\n",
       "    .dataframe tbody tr th:only-of-type {\n",
       "        vertical-align: middle;\n",
       "    }\n",
       "\n",
       "    .dataframe tbody tr th {\n",
       "        vertical-align: top;\n",
       "    }\n",
       "\n",
       "    .dataframe thead th {\n",
       "        text-align: right;\n",
       "    }\n",
       "</style>\n",
       "<table border=\"1\" class=\"dataframe\">\n",
       "  <thead>\n",
       "    <tr style=\"text-align: right;\">\n",
       "      <th></th>\n",
       "      <th>Name</th>\n",
       "      <th>Age</th>\n",
       "      <th>City</th>\n",
       "    </tr>\n",
       "  </thead>\n",
       "  <tbody>\n",
       "    <tr>\n",
       "      <th>2</th>\n",
       "      <td>Anand</td>\n",
       "      <td>16</td>\n",
       "      <td>Singapore</td>\n",
       "    </tr>\n",
       "    <tr>\n",
       "      <th>4</th>\n",
       "      <td>Anand</td>\n",
       "      <td>16</td>\n",
       "      <td>Singapore</td>\n",
       "    </tr>\n",
       "  </tbody>\n",
       "</table>\n",
       "</div>"
      ],
      "text/plain": [
       "    Name  Age       City\n",
       "2  Anand   16  Singapore\n",
       "4  Anand   16  Singapore"
      ]
     },
     "execution_count": 5,
     "metadata": {},
     "output_type": "execute_result"
    }
   ],
   "source": [
    "# Select duplicate rows except first occurrence based on all columns\n",
    "duplicateRowsDF = df[df.duplicated(keep='last')]\n",
    "\n",
    "print(\"Duplicate Rows except first occurrence based on all columns are :\")\n",
    "duplicateRowsDF"
   ]
  },
  {
   "cell_type": "code",
   "execution_count": 6,
   "id": "c7db5e28-dc8f-40b7-9ba8-28540e417ece",
   "metadata": {
    "tags": []
   },
   "outputs": [
    {
     "name": "stdout",
     "output_type": "stream",
     "text": [
      "Duplicate Rows except last occurrence based on all columns are :\n"
     ]
    },
    {
     "data": {
      "text/html": [
       "<div>\n",
       "<style scoped>\n",
       "    .dataframe tbody tr th:only-of-type {\n",
       "        vertical-align: middle;\n",
       "    }\n",
       "\n",
       "    .dataframe tbody tr th {\n",
       "        vertical-align: top;\n",
       "    }\n",
       "\n",
       "    .dataframe thead th {\n",
       "        text-align: right;\n",
       "    }\n",
       "</style>\n",
       "<table border=\"1\" class=\"dataframe\">\n",
       "  <thead>\n",
       "    <tr style=\"text-align: right;\">\n",
       "      <th></th>\n",
       "      <th>Name</th>\n",
       "      <th>Age</th>\n",
       "      <th>City</th>\n",
       "    </tr>\n",
       "  </thead>\n",
       "  <tbody>\n",
       "    <tr>\n",
       "      <th>4</th>\n",
       "      <td>Anand</td>\n",
       "      <td>16</td>\n",
       "      <td>Singapore</td>\n",
       "    </tr>\n",
       "    <tr>\n",
       "      <th>8</th>\n",
       "      <td>Anand</td>\n",
       "      <td>16</td>\n",
       "      <td>Singapore</td>\n",
       "    </tr>\n",
       "  </tbody>\n",
       "</table>\n",
       "</div>"
      ],
      "text/plain": [
       "    Name  Age       City\n",
       "4  Anand   16  Singapore\n",
       "8  Anand   16  Singapore"
      ]
     },
     "execution_count": 6,
     "metadata": {},
     "output_type": "execute_result"
    }
   ],
   "source": [
    "# Select duplicate rows except last occurrence based on all columns\n",
    "duplicateRowsDF = df[df.duplicated(keep='first')]\n",
    " \n",
    "print(\"Duplicate Rows except last occurrence based on all columns are :\")\n",
    "duplicateRowsDF"
   ]
  },
  {
   "cell_type": "markdown",
   "id": "d2910f36-fc9a-4d66-be43-acb179d9ba46",
   "metadata": {},
   "source": [
    "## Find Duplicate Rows based on selected columns"
   ]
  },
  {
   "cell_type": "markdown",
   "id": "f5c34046-ce86-4855-8b16-343169c523af",
   "metadata": {},
   "source": [
    "#### find & select rows based on a single column,"
   ]
  },
  {
   "cell_type": "code",
   "execution_count": 7,
   "id": "f69635e6-d75e-4816-b164-98eb57da0b54",
   "metadata": {
    "tags": []
   },
   "outputs": [
    {
     "name": "stdout",
     "output_type": "stream",
     "text": [
      "Duplicate Rows based on a single column are:\n",
      "         Name  Age       City\n",
      "4       Anand   16  Singapore\n",
      "7  popcorn.ai   30      Delhi\n",
      "8       Anand   16  Singapore\n"
     ]
    }
   ],
   "source": [
    "# Select all duplicate rows based on one column\n",
    "duplicateRowsDF = df[df.duplicated(['Name'], keep='first')]\n",
    "\n",
    "print(\"Duplicate Rows based on a single column are:\", duplicateRowsDF, sep='\\n')"
   ]
  },
  {
   "cell_type": "markdown",
   "id": "519dfea1-333a-4de4-bb15-0de2eee1d77d",
   "metadata": {},
   "source": [
    "Here rows which has same value in ‘Name’ column are marked as duplicate and returned."
   ]
  },
  {
   "cell_type": "markdown",
   "id": "e3786796-5c0b-42ff-9f14-ee7d71ca27b6",
   "metadata": {},
   "source": [
    "#### Find & select rows based on a two column names,"
   ]
  },
  {
   "cell_type": "code",
   "execution_count": 8,
   "id": "62fe4f5e-bc18-4932-b1c1-a0e9a981969d",
   "metadata": {
    "tags": []
   },
   "outputs": [
    {
     "name": "stdout",
     "output_type": "stream",
     "text": [
      "Duplicate Rows based on 2 columns are:\n",
      "         Name  Age       City\n",
      "3       Steve   30      Delhi\n",
      "4       Anand   16  Singapore\n",
      "7  popcorn.ai   30      Delhi\n",
      "8       Anand   16  Singapore\n"
     ]
    }
   ],
   "source": [
    "# Select all duplicate rows based on multiple column names in list\n",
    "duplicateRowsDF = df[df.duplicated(['Age', 'City'], keep='first')]\n",
    " \n",
    "print(\"Duplicate Rows based on 2 columns are:\", duplicateRowsDF, sep='\\n')"
   ]
  },
  {
   "cell_type": "markdown",
   "id": "556bc3f3-166e-4057-8e88-7222649b6b4b",
   "metadata": {},
   "source": [
    "Here rows which has same values in ‘Age’  & ‘City’ columns are marked as duplicate and returned."
   ]
  },
  {
   "cell_type": "markdown",
   "id": "2a4d8b11-5b19-44ee-be3e-e3c2c1fff343",
   "metadata": {},
   "source": [
    "## Dropping duplicates from a particular column"
   ]
  },
  {
   "cell_type": "code",
   "execution_count": 9,
   "id": "cd1c02c0-3339-4ddd-be6e-9fa6055d1457",
   "metadata": {
    "tags": []
   },
   "outputs": [
    {
     "data": {
      "text/html": [
       "<div>\n",
       "<style scoped>\n",
       "    .dataframe tbody tr th:only-of-type {\n",
       "        vertical-align: middle;\n",
       "    }\n",
       "\n",
       "    .dataframe tbody tr th {\n",
       "        vertical-align: top;\n",
       "    }\n",
       "\n",
       "    .dataframe thead th {\n",
       "        text-align: right;\n",
       "    }\n",
       "</style>\n",
       "<table border=\"1\" class=\"dataframe\">\n",
       "  <thead>\n",
       "    <tr style=\"text-align: right;\">\n",
       "      <th></th>\n",
       "      <th>Name</th>\n",
       "      <th>Age</th>\n",
       "      <th>City</th>\n",
       "    </tr>\n",
       "  </thead>\n",
       "  <tbody>\n",
       "    <tr>\n",
       "      <th>0</th>\n",
       "      <td>Sri</td>\n",
       "      <td>34</td>\n",
       "      <td>Sydeny</td>\n",
       "    </tr>\n",
       "    <tr>\n",
       "      <th>1</th>\n",
       "      <td>Sai</td>\n",
       "      <td>30</td>\n",
       "      <td>Delhi</td>\n",
       "    </tr>\n",
       "    <tr>\n",
       "      <th>2</th>\n",
       "      <td>Anand</td>\n",
       "      <td>16</td>\n",
       "      <td>Singapore</td>\n",
       "    </tr>\n",
       "    <tr>\n",
       "      <th>3</th>\n",
       "      <td>Steve</td>\n",
       "      <td>30</td>\n",
       "      <td>Delhi</td>\n",
       "    </tr>\n",
       "    <tr>\n",
       "      <th>4</th>\n",
       "      <td>Anand</td>\n",
       "      <td>16</td>\n",
       "      <td>Singapore</td>\n",
       "    </tr>\n",
       "    <tr>\n",
       "      <th>5</th>\n",
       "      <td>Priti</td>\n",
       "      <td>30</td>\n",
       "      <td>Mumbai</td>\n",
       "    </tr>\n",
       "    <tr>\n",
       "      <th>6</th>\n",
       "      <td>popcorn.ai</td>\n",
       "      <td>40</td>\n",
       "      <td>Delhi</td>\n",
       "    </tr>\n",
       "    <tr>\n",
       "      <th>7</th>\n",
       "      <td>popcorn.ai</td>\n",
       "      <td>30</td>\n",
       "      <td>Delhi</td>\n",
       "    </tr>\n",
       "  </tbody>\n",
       "</table>\n",
       "</div>"
      ],
      "text/plain": [
       "         Name  Age       City\n",
       "0         Sri   34     Sydeny\n",
       "1         Sai   30      Delhi\n",
       "2       Anand   16  Singapore\n",
       "3       Steve   30      Delhi\n",
       "4       Anand   16  Singapore\n",
       "5       Priti   30     Mumbai\n",
       "6  popcorn.ai   40      Delhi\n",
       "7  popcorn.ai   30      Delhi"
      ]
     },
     "execution_count": 9,
     "metadata": {},
     "output_type": "execute_result"
    }
   ],
   "source": [
    "students = [('Sri',    34, 'Sydeny'),\n",
    "            ('Sai',    30, 'Delhi'),\n",
    "            ('Anand',  16, 'Singapore'),\n",
    "            ('Steve',  30, 'Delhi'),\n",
    "            ('Anand',   16, 'Singapore'),\n",
    "            ('Priti',    30, 'Mumbai'),\n",
    "            ('popcorn.ai', 40, 'Delhi'),\n",
    "            ('popcorn.ai', 30, 'Delhi')\n",
    "            ]\n",
    " \n",
    "# Create a DataFrame object\n",
    "df = pd.DataFrame(students, columns=['Name', 'Age', 'City'])\n",
    "df"
   ]
  },
  {
   "cell_type": "code",
   "execution_count": 10,
   "id": "7749f4d1-2811-4c87-9323-e8561a8c33cd",
   "metadata": {
    "tags": []
   },
   "outputs": [
    {
     "data": {
      "text/html": [
       "<div>\n",
       "<style scoped>\n",
       "    .dataframe tbody tr th:only-of-type {\n",
       "        vertical-align: middle;\n",
       "    }\n",
       "\n",
       "    .dataframe tbody tr th {\n",
       "        vertical-align: top;\n",
       "    }\n",
       "\n",
       "    .dataframe thead th {\n",
       "        text-align: right;\n",
       "    }\n",
       "</style>\n",
       "<table border=\"1\" class=\"dataframe\">\n",
       "  <thead>\n",
       "    <tr style=\"text-align: right;\">\n",
       "      <th></th>\n",
       "      <th>Name</th>\n",
       "      <th>Age</th>\n",
       "      <th>City</th>\n",
       "    </tr>\n",
       "  </thead>\n",
       "  <tbody>\n",
       "    <tr>\n",
       "      <th>0</th>\n",
       "      <td>Sri</td>\n",
       "      <td>34</td>\n",
       "      <td>Sydeny</td>\n",
       "    </tr>\n",
       "    <tr>\n",
       "      <th>1</th>\n",
       "      <td>Sai</td>\n",
       "      <td>30</td>\n",
       "      <td>Delhi</td>\n",
       "    </tr>\n",
       "    <tr>\n",
       "      <th>2</th>\n",
       "      <td>Anand</td>\n",
       "      <td>16</td>\n",
       "      <td>Singapore</td>\n",
       "    </tr>\n",
       "    <tr>\n",
       "      <th>3</th>\n",
       "      <td>Steve</td>\n",
       "      <td>30</td>\n",
       "      <td>Delhi</td>\n",
       "    </tr>\n",
       "    <tr>\n",
       "      <th>5</th>\n",
       "      <td>Priti</td>\n",
       "      <td>30</td>\n",
       "      <td>Mumbai</td>\n",
       "    </tr>\n",
       "    <tr>\n",
       "      <th>6</th>\n",
       "      <td>popcorn.ai</td>\n",
       "      <td>40</td>\n",
       "      <td>Delhi</td>\n",
       "    </tr>\n",
       "  </tbody>\n",
       "</table>\n",
       "</div>"
      ],
      "text/plain": [
       "         Name  Age       City\n",
       "0         Sri   34     Sydeny\n",
       "1         Sai   30      Delhi\n",
       "2       Anand   16  Singapore\n",
       "3       Steve   30      Delhi\n",
       "5       Priti   30     Mumbai\n",
       "6  popcorn.ai   40      Delhi"
      ]
     },
     "execution_count": 10,
     "metadata": {},
     "output_type": "execute_result"
    }
   ],
   "source": [
    "df.drop_duplicates(['Name'], keep='first', inplace=False)"
   ]
  },
  {
   "cell_type": "code",
   "execution_count": 11,
   "id": "4d85113b-d9b8-4de2-ba5e-e1fc17978a0e",
   "metadata": {
    "tags": []
   },
   "outputs": [
    {
     "data": {
      "text/html": [
       "<div>\n",
       "<style scoped>\n",
       "    .dataframe tbody tr th:only-of-type {\n",
       "        vertical-align: middle;\n",
       "    }\n",
       "\n",
       "    .dataframe tbody tr th {\n",
       "        vertical-align: top;\n",
       "    }\n",
       "\n",
       "    .dataframe thead th {\n",
       "        text-align: right;\n",
       "    }\n",
       "</style>\n",
       "<table border=\"1\" class=\"dataframe\">\n",
       "  <thead>\n",
       "    <tr style=\"text-align: right;\">\n",
       "      <th></th>\n",
       "      <th>Name</th>\n",
       "      <th>Age</th>\n",
       "      <th>City</th>\n",
       "    </tr>\n",
       "  </thead>\n",
       "  <tbody>\n",
       "    <tr>\n",
       "      <th>0</th>\n",
       "      <td>Sri</td>\n",
       "      <td>34</td>\n",
       "      <td>Sydeny</td>\n",
       "    </tr>\n",
       "    <tr>\n",
       "      <th>1</th>\n",
       "      <td>Sai</td>\n",
       "      <td>30</td>\n",
       "      <td>Delhi</td>\n",
       "    </tr>\n",
       "    <tr>\n",
       "      <th>2</th>\n",
       "      <td>Anand</td>\n",
       "      <td>16</td>\n",
       "      <td>Singapore</td>\n",
       "    </tr>\n",
       "    <tr>\n",
       "      <th>3</th>\n",
       "      <td>Steve</td>\n",
       "      <td>30</td>\n",
       "      <td>Delhi</td>\n",
       "    </tr>\n",
       "    <tr>\n",
       "      <th>5</th>\n",
       "      <td>Priti</td>\n",
       "      <td>30</td>\n",
       "      <td>Mumbai</td>\n",
       "    </tr>\n",
       "    <tr>\n",
       "      <th>6</th>\n",
       "      <td>popcorn.ai</td>\n",
       "      <td>40</td>\n",
       "      <td>Delhi</td>\n",
       "    </tr>\n",
       "  </tbody>\n",
       "</table>\n",
       "</div>"
      ],
      "text/plain": [
       "         Name  Age       City\n",
       "0         Sri   34     Sydeny\n",
       "1         Sai   30      Delhi\n",
       "2       Anand   16  Singapore\n",
       "3       Steve   30      Delhi\n",
       "5       Priti   30     Mumbai\n",
       "6  popcorn.ai   40      Delhi"
      ]
     },
     "execution_count": 11,
     "metadata": {},
     "output_type": "execute_result"
    }
   ],
   "source": [
    "df.drop_duplicates(['Name', 'City'], keep='first', inplace=False)"
   ]
  },
  {
   "cell_type": "markdown",
   "id": "3b972094-fae4-4f06-9a1d-d2bf54f4ade8",
   "metadata": {},
   "source": [
    "#### Best Practices for Handling Duplicates in Datasets (AI/ML)\n",
    "\n",
    "1. **Identify Duplicates**\n",
    "   - Use methods like `DataFrame.duplicated()` in Pandas to identify duplicate rows.\n",
    "\n",
    "   - Consider duplicates across `all columns` or `specific subsets` depending on the context.\n",
    "\n",
    "2. **Understand the Cause of Duplicates**\n",
    "   - Analyze why duplicates exist: data entry errors, merging multiple datasets, etc.\n",
    "\n",
    "3. **Determine the Impact on the Model**\n",
    "   - Assess how duplicates affect model performance, e.g., biasing the model if duplicates are more frequent in certain classes.\n",
    "\n",
    "\n",
    "4. **Decide Whether to Remove or Retain Duplicates**\n",
    "   - In some cases, duplicates may be legitimate (e.g., repeated measurements) and should be retained.\n",
    "\n",
    "   - In other cases, removing duplicates may reduce noise and improve model generalization.\n",
    "\n",
    "\n",
    "5. **De-duplication Strategies**\n",
    "   - **Exact Match**: Remove exact duplicates.\n",
    "\n",
    "   - **Near Duplicates**: Consider records that are similar but not identical (e.g., spelling errors, minor differences). Use techniques like fuzzy matching.\n",
    "     \n",
    "   - **Key-based Deduplication**: Deduplicate based on specific key columns, ignoring others.\n",
    "\n",
    "6. **Handling Duplicates in Time-Series Data**\n",
    "   - In time-series datasets, duplicates may occur due to sensor errors or repeated events. Decide to aggregate, average, or retain based on context.\n",
    "\n",
    "\n",
    "7. **Handling Duplicates in Text Data**\n",
    "   - In NLP datasets, duplicates (e.g., repeated sentences or documents) can distort the model. Use techniques like TF-IDF to identify and remove them.\n",
    "\n",
    "8. **Evaluate Model Performance Before and After De-duplication**\n",
    "   - Compare model metrics (accuracy, F1-score, etc.) with and without duplicates to understand their impact.\n",
    "\n",
    "\n",
    "9. **Document Your Decisions**\n",
    "   - Keep a record of decisions regarding duplicates, including why certain duplicates were retained or removed, for reproducibility and transparency.\n",
    "\n",
    "10. **Consider Domain-specific Implications**\n",
    "    - Duplicates may have different meanings in different domains (e.g., customer data vs. medical records). Tailor your approach accordingly.\n",
    "\n",
    "\n",
    "\n"
   ]
  },
  {
   "cell_type": "code",
   "execution_count": null,
   "id": "1bff0032-fbda-46e1-8519-d4ec6de9a0f8",
   "metadata": {},
   "outputs": [],
   "source": []
  }
 ],
 "metadata": {
  "kernelspec": {
   "display_name": "Python 3 (ipykernel)",
   "language": "python",
   "name": "python3"
  },
  "language_info": {
   "codemirror_mode": {
    "name": "ipython",
    "version": 3
   },
   "file_extension": ".py",
   "mimetype": "text/x-python",
   "name": "python",
   "nbconvert_exporter": "python",
   "pygments_lexer": "ipython3",
   "version": "3.12.3"
  }
 },
 "nbformat": 4,
 "nbformat_minor": 5
}
