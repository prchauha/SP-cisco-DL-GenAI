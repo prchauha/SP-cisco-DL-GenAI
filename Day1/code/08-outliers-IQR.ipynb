{
 "cells": [
  {
   "cell_type": "markdown",
   "id": "47690e6f-400b-435c-974d-739517489771",
   "metadata": {},
   "source": [
    "------------------------\n",
    "#### Outlier : IQR method\n",
    "------------------------"
   ]
  },
  {
   "cell_type": "code",
   "execution_count": 1,
   "id": "8b8bfe0f-b5fc-49cd-a9c8-2463588065f6",
   "metadata": {
    "tags": []
   },
   "outputs": [
    {
     "name": "stderr",
     "output_type": "stream",
     "text": [
      "D:\\Anaconda-16-FEB\\lib\\site-packages\\scipy\\__init__.py:155: UserWarning: A NumPy version >=1.18.5 and <1.25.0 is required for this version of SciPy (detected version 1.26.4\n",
      "  warnings.warn(f\"A NumPy version >={np_minversion} and <{np_maxversion}\"\n"
     ]
    }
   ],
   "source": [
    "import seaborn as sns\n",
    "import pandas as pd\n",
    "import matplotlib.pyplot as plt\n",
    "from sklearn.datasets import load_breast_cancer"
   ]
  },
  {
   "cell_type": "code",
   "execution_count": 2,
   "id": "3ce0bdf3-756f-4908-9313-4c4fe97b7ea9",
   "metadata": {
    "tags": []
   },
   "outputs": [],
   "source": [
    "# Load Breast Cancer dataset from scikit-learn\n",
    "breast_cancer = load_breast_cancer()\n",
    "data = breast_cancer.data\n",
    "feature_names = breast_cancer.feature_names"
   ]
  },
  {
   "cell_type": "code",
   "execution_count": 3,
   "id": "9fbde04a-4bf6-4558-9290-e71da1da841a",
   "metadata": {
    "tags": []
   },
   "outputs": [],
   "source": [
    "# Select two columns for IQR analysis\n",
    "selected_columns = ['mean radius', 'mean area']\n"
   ]
  },
  {
   "cell_type": "code",
   "execution_count": 4,
   "id": "7d3732c3-cc6f-4dd5-8b4a-aa3232b3b993",
   "metadata": {
    "tags": []
   },
   "outputs": [],
   "source": [
    "# Create a DataFrame for selected columns\n",
    "df_selected = pd.DataFrame(data, columns=feature_names)[selected_columns]\n"
   ]
  },
  {
   "cell_type": "code",
   "execution_count": 5,
   "id": "b97241e9-f751-4ea2-a10f-b7d18255ef8c",
   "metadata": {
    "tags": []
   },
   "outputs": [],
   "source": [
    "# Calculate quartiles and IQR\n",
    "Q1 = df_selected.quantile(0.25)\n",
    "Q2 = df_selected.median()\n",
    "Q3 = df_selected.quantile(0.75)\n",
    "Q4 = df_selected.quantile(1)"
   ]
  },
  {
   "cell_type": "code",
   "execution_count": 6,
   "id": "572bbd92-a6f3-4c67-a9db-75d6ba9d799e",
   "metadata": {
    "tags": []
   },
   "outputs": [],
   "source": [
    "IQR = Q3 - Q1"
   ]
  },
  {
   "cell_type": "code",
   "execution_count": 7,
   "id": "97b2a7ad-091b-4145-a3c1-e86630bae9fb",
   "metadata": {
    "tags": []
   },
   "outputs": [],
   "source": [
    "# Calculate upper and lower cutoff values\n",
    "lower_cutoff = Q1 - 1.5 * IQR\n",
    "upper_cutoff = Q3 + 1.5 * IQR"
   ]
  },
  {
   "cell_type": "code",
   "execution_count": 8,
   "id": "9612dda2-53c7-4fc4-8208-02114e01c1ae",
   "metadata": {
    "tags": []
   },
   "outputs": [
    {
     "name": "stdout",
     "output_type": "stream",
     "text": [
      "Quartiles (Q1, Q2, Q3, Q4):\n",
      "mean radius     11.7\n",
      "mean area      420.3\n",
      "Name: 0.25, dtype: float64\n",
      "mean radius     13.37\n",
      "mean area      551.10\n",
      "dtype: float64\n",
      "mean radius     15.78\n",
      "mean area      782.70\n",
      "Name: 0.75, dtype: float64\n",
      "mean radius      28.11\n",
      "mean area      2501.00\n",
      "Name: 1.0, dtype: float64\n",
      "\n",
      "Interquartile Range (IQR):\n",
      "mean radius      4.08\n",
      "mean area      362.40\n",
      "dtype: float64\n",
      "\n",
      "Lower Cutoff:\n",
      "mean radius      5.58\n",
      "mean area     -123.30\n",
      "dtype: float64\n",
      "\n",
      "Upper Cutoff:\n",
      "mean radius      21.9\n",
      "mean area      1326.3\n",
      "dtype: float64\n"
     ]
    }
   ],
   "source": [
    "# Display the results\n",
    "print(\"Quartiles (Q1, Q2, Q3, Q4):\")\n",
    "print(Q1)\n",
    "print(Q2)\n",
    "print(Q3)\n",
    "print(Q4)\n",
    "print(\"\\nInterquartile Range (IQR):\")\n",
    "print(IQR)\n",
    "print(\"\\nLower Cutoff:\")\n",
    "print(lower_cutoff)\n",
    "print(\"\\nUpper Cutoff:\")\n",
    "print(upper_cutoff)"
   ]
  },
  {
   "cell_type": "code",
   "execution_count": null,
   "id": "226d5bda-4d16-42a9-8e78-b0c151251204",
   "metadata": {},
   "outputs": [],
   "source": []
  },
  {
   "cell_type": "code",
   "execution_count": null,
   "id": "e457230b-d7f9-4b11-9624-2f9e27ecdcd0",
   "metadata": {},
   "outputs": [],
   "source": []
  }
 ],
 "metadata": {
  "kernelspec": {
   "display_name": "Python 3 (ipykernel)",
   "language": "python",
   "name": "python3"
  },
  "language_info": {
   "codemirror_mode": {
    "name": "ipython",
    "version": 3
   },
   "file_extension": ".py",
   "mimetype": "text/x-python",
   "name": "python",
   "nbconvert_exporter": "python",
   "pygments_lexer": "ipython3",
   "version": "3.9.13"
  }
 },
 "nbformat": 4,
 "nbformat_minor": 5
}
